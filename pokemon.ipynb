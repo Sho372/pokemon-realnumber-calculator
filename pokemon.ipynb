{
 "cells": [
  {
   "cell_type": "markdown",
   "metadata": {},
   "source": [
    "# ポケモン基本計算まとめ\n",
    "\n",
    "- ステータス実数値計算\n"
   ]
  },
  {
   "cell_type": "markdown",
   "metadata": {},
   "source": [
    "## 実行環境確認\n",
    "\n",
    "Pythonの仮想環境確認"
   ]
  },
  {
   "cell_type": "code",
   "execution_count": 10,
   "metadata": {},
   "outputs": [
    {
     "name": "stdout",
     "output_type": "stream",
     "text": [
      "/home/shouhei/anaconda3/envs/6.86x/bin/python\n"
     ]
    }
   ],
   "source": [
    "!which python"
   ]
  },
  {
   "cell_type": "code",
   "execution_count": 3,
   "metadata": {},
   "outputs": [
    {
     "name": "stdout",
     "output_type": "stream",
     "text": [
      "/home/shouhei/anaconda3/envs/6.86x/bin/pip\n"
     ]
    }
   ],
   "source": [
    "!which pip"
   ]
  },
  {
   "cell_type": "markdown",
   "metadata": {},
   "source": [
    "## パッケージアップデート\n",
    "\n",
    "- numpy\n",
    "- matplotlib\n",
    "- pandas"
   ]
  },
  {
   "cell_type": "code",
   "execution_count": 4,
   "metadata": {},
   "outputs": [
    {
     "name": "stdout",
     "output_type": "stream",
     "text": [
      "numpy              1.16.4   \n"
     ]
    }
   ],
   "source": [
    "!pip list | grep numpy"
   ]
  },
  {
   "cell_type": "code",
   "execution_count": 8,
   "metadata": {},
   "outputs": [
    {
     "name": "stdout",
     "output_type": "stream",
     "text": [
      "Collecting numpy\n",
      "\u001b[?25l  Downloading https://files.pythonhosted.org/packages/d2/ab/43e678759326f728de861edbef34b8e2ad1b1490505f20e0d1f0716c3bf4/numpy-1.17.4-cp36-cp36m-manylinux1_x86_64.whl (20.0MB)\n",
      "\u001b[K     |████████████████████████████████| 20.0MB 2.6MB/s \n",
      "\u001b[?25hInstalling collected packages: numpy\n",
      "  Found existing installation: numpy 1.16.4\n",
      "    Uninstalling numpy-1.16.4:\n",
      "      Successfully uninstalled numpy-1.16.4\n",
      "Successfully installed numpy-1.17.4\n"
     ]
    }
   ],
   "source": [
    "!pip install --upgrade numpy"
   ]
  },
  {
   "cell_type": "code",
   "execution_count": 15,
   "metadata": {},
   "outputs": [
    {
     "name": "stdout",
     "output_type": "stream",
     "text": [
      "numpy              1.17.4   \n"
     ]
    }
   ],
   "source": [
    "!pip list | grep numpy"
   ]
  },
  {
   "cell_type": "code",
   "execution_count": 14,
   "metadata": {},
   "outputs": [
    {
     "name": "stdout",
     "output_type": "stream",
     "text": [
      "Collecting matplotlib\n",
      "\u001b[?25l  Downloading https://files.pythonhosted.org/packages/4e/11/06958a2b895a3853206dea1fb2a5b11bf044f626f90745987612af9c8f2c/matplotlib-3.1.2-cp36-cp36m-manylinux1_x86_64.whl (13.1MB)\n",
      "\u001b[K     |████████████████████████████████| 13.1MB 2.2MB/s \n",
      "\u001b[?25hRequirement already satisfied, skipping upgrade: pyparsing!=2.0.4,!=2.1.2,!=2.1.6,>=2.0.1 in /home/shouhei/anaconda3/envs/6.86x/lib/python3.6/site-packages (from matplotlib) (2.4.0)\n",
      "Requirement already satisfied, skipping upgrade: cycler>=0.10 in /home/shouhei/anaconda3/envs/6.86x/lib/python3.6/site-packages (from matplotlib) (0.10.0)\n",
      "Requirement already satisfied, skipping upgrade: kiwisolver>=1.0.1 in /home/shouhei/anaconda3/envs/6.86x/lib/python3.6/site-packages (from matplotlib) (1.1.0)\n",
      "Requirement already satisfied, skipping upgrade: python-dateutil>=2.1 in /home/shouhei/anaconda3/envs/6.86x/lib/python3.6/site-packages (from matplotlib) (2.8.0)\n",
      "Requirement already satisfied, skipping upgrade: numpy>=1.11 in /home/shouhei/anaconda3/envs/6.86x/lib/python3.6/site-packages (from matplotlib) (1.17.4)\n",
      "Requirement already satisfied, skipping upgrade: six in /home/shouhei/anaconda3/envs/6.86x/lib/python3.6/site-packages (from cycler>=0.10->matplotlib) (1.12.0)\n",
      "Requirement already satisfied, skipping upgrade: setuptools in /home/shouhei/anaconda3/envs/6.86x/lib/python3.6/site-packages (from kiwisolver>=1.0.1->matplotlib) (41.0.1)\n",
      "Installing collected packages: matplotlib\n",
      "  Found existing installation: matplotlib 3.1.0\n",
      "    Uninstalling matplotlib-3.1.0:\n",
      "      Successfully uninstalled matplotlib-3.1.0\n",
      "Successfully installed matplotlib-3.1.2\n"
     ]
    }
   ],
   "source": [
    "!pip install --upgrade matplotlib"
   ]
  },
  {
   "cell_type": "code",
   "execution_count": 16,
   "metadata": {},
   "outputs": [
    {
     "name": "stdout",
     "output_type": "stream",
     "text": [
      "matplotlib         3.1.2    \n"
     ]
    }
   ],
   "source": [
    "!pip list | grep matplotlib"
   ]
  },
  {
   "cell_type": "markdown",
   "metadata": {},
   "source": [
    "---"
   ]
  },
  {
   "cell_type": "markdown",
   "metadata": {},
   "source": [
    "## ポケモン実数値計算\n",
    "\n",
    "H, A, B, C, D, Eの実数値計算"
   ]
  },
  {
   "cell_type": "markdown",
   "metadata": {},
   "source": [
    "### 基本計算式\n",
    "\n",
    "計算式は以下の通り。\n",
    "\n",
    "- $x_i$ を `種族値`\n",
    "    - $i = 0, 1, 2, 3, 4, 5$ \n",
    "        - $x_0 = H$ : [1..255]\n",
    "        - $x_1 = A$ : [10..170]\n",
    "        - $x_2 = B$ : [15..250]\n",
    "        - $x_3 = C$ : [35..145]\n",
    "        - $x_4 = D$ : [95..250]\n",
    "        - $x_5 = S$ : [5..160]\n",
    "- $y$ を `個体値` : [0..31]\n",
    "- $z$ を `努力値` : [0..252]\n",
    "- $\\rm Lv$ を `レベル` : [1..100]"
   ]
  },
  {
   "cell_type": "markdown",
   "metadata": {},
   "source": [
    "Hの場合\n",
    "\n",
    "$ v_0 = \\{(x_0\\cdot 2 + y + \\frac{z}{4}) \\times (\\frac{ \\rm Lv }{100})\\} + (10+ \\rm Lv)$ "
   ]
  },
  {
   "cell_type": "markdown",
   "metadata": {},
   "source": [
    "A, B, C, D, Eの場合\n",
    "\n",
    "$ v_i = [\\{(x_i \\cdot 2 + y + \\frac{z}{4})  \\times (\\frac{ \\rm Lv }{100})\\} + 5] $ "
   ]
  },
  {
   "cell_type": "markdown",
   "metadata": {},
   "source": [
    "補正前実数値ベクトルを$\\mathbf{v}$、 性格補正ベクトルを$\\mathbf{u}$とする"
   ]
  },
  {
   "cell_type": "markdown",
   "metadata": {},
   "source": [
    "$ \\mathbf{v} = \n",
    "\\begin {pmatrix} v_0 \\\\\n",
    "                 v_1 \\\\\n",
    "                 v_2 \\\\\n",
    "                 v_3 \\\\\n",
    "                 v_4 \\\\\n",
    "                 v_5\n",
    "\\end {pmatrix} \\in \\mathbb{I}^6 $"
   ]
  },
  {
   "cell_type": "markdown",
   "metadata": {},
   "source": [
    "$ \\mathbf{u} = \n",
    "\\begin {pmatrix} 1.0 \\\\\n",
    "                 u_1 \\\\\n",
    "                 u_2 \\\\\n",
    "                 u_3 \\\\\n",
    "                 u_4 \\\\\n",
    "                 u_5\n",
    "\\end {pmatrix}  \\in \\mathbb{R}^6 $"
   ]
  },
  {
   "cell_type": "markdown",
   "metadata": {},
   "source": [
    "よって、補正後実数値はelement-wizeの積で表現できる"
   ]
  },
  {
   "cell_type": "markdown",
   "metadata": {},
   "source": [
    "$ \\mathbf{v} \\odot \\mathbf{u}  \\in \\mathbb{I}^6 $"
   ]
  },
  {
   "cell_type": "markdown",
   "metadata": {},
   "source": [
    "また、実数値合計は内積で表現できる"
   ]
  },
  {
   "cell_type": "markdown",
   "metadata": {},
   "source": [
    "$ \\mathbf{v}^T \\cdot \\mathbf{u} \\in \\mathbb{I}$"
   ]
  },
  {
   "cell_type": "markdown",
   "metadata": {},
   "source": [
    "#### 種族値入力"
   ]
  },
  {
   "cell_type": "code",
   "execution_count": 35,
   "metadata": {},
   "outputs": [
    {
     "name": "stdin",
     "output_type": "stream",
     "text": [
      "H:  70\n",
      "A:  110\n",
      "B:  70\n",
      "C:  115\n",
      "D:  70\n",
      "S:  90\n"
     ]
    }
   ],
   "source": [
    "import numpy as np\n",
    "\n",
    "H = int(input(\"H: \"))\n",
    "A = int(input(\"A: \"))\n",
    "B = int(input(\"B: \"))\n",
    "C = int(input(\"C: \"))\n",
    "D = int(input(\"D: \"))\n",
    "S = int(input(\"S: \"))"
   ]
  },
  {
   "cell_type": "code",
   "execution_count": 125,
   "metadata": {},
   "outputs": [],
   "source": [
    "def calcActualH(x, y, z, level):\n",
    "    return int((((x*2 + y + z/4) * (level/100)) + (10 + level)))\n",
    "\n",
    "def calcActualABCDS(x, y, z, level):\n",
    "    return int(((x*2 + y + z/4) * (level/100)) + 5)\n",
    "\n",
    "def createVectorV(H, A, B, C, D, S, \n",
    "                  y_H,y_A,y_B,y_C,y_D,y_S, \n",
    "                  z_H,z_A,z_B,z_C,z_D,z_S,\n",
    "                  level):\n",
    "    return np.array(\n",
    "        [calcActualH(H,y_H,z_H,level),\n",
    "         calcActualABCDS(A,y_A,z_A,level),\n",
    "         calcActualABCDS(B,y_B,z_B,level),\n",
    "         calcActualABCDS(C,y_C,z_C,level),\n",
    "         calcActualABCDS(D,y_D,z_D,level),\n",
    "         calcActualABCDS(S,y_S,z_S,level)\n",
    "        ]\n",
    "    )"
   ]
  },
  {
   "cell_type": "markdown",
   "metadata": {},
   "source": [
    "#### 性格補正ベクトル $\\mathbf{u}$"
   ]
  },
  {
   "cell_type": "code",
   "execution_count": 114,
   "metadata": {},
   "outputs": [],
   "source": [
    "# 物理アタッカー いじっぱり\n",
    "u_0 = np.array([1.0, 1.1, 1.0, 0.9, 1.0, 1.0])\n",
    "# 高速物理アタッカー  ようき\n",
    "u_1 = np.array([1.0, 1.0, 1.0, 0.9, 1.0, 1.1])\n",
    "# 特殊アタッカー ひかえめ\n",
    "u_2 = np.array([1.0, 0.9, 1.0, 1.1, 1.0, 1.0])\n",
    "# 高速特殊アタッカー おくびょう\n",
    "u_3 = np.array([1.0, 0.9, 1.0, 1.0, 1.0, 1.1])\n",
    "# 物理受け ずぶとい\n",
    "u_4 = np.array([1.0, 0.9, 1.1, 1.0, 1.0, 1.0])\n",
    "# 物理受け わんぱく\n",
    "u_5 = np.array([1.0, 1.0, 1.1, 0.9, 1.0, 1.0])\n",
    "# 特殊受け おだやか\n",
    "u_6 = np.array([1.0, 0.9, 1.0, 1.0, 1.1, 1.0])\n",
    "# 特殊受け しんちょう\n",
    "u_7 = np.array([1.0, 1.0, 1.0, 0.9, 1.1, 1.0])"
   ]
  },
  {
   "cell_type": "code",
   "execution_count": 128,
   "metadata": {},
   "outputs": [],
   "source": [
    "import pandas as pd\n",
    "\n",
    "header = np.array([\"H\",\"A\",\"B\",\"C\",\"D\",\"S\"])\n",
    "index = np.array([\n",
    "    \"物理アタッカー\",\n",
    "    \"高速物理アタッカー\",\n",
    "    \"特殊アタッカー\",\n",
    "    \"高速特殊アタッカー\",\n",
    "    \"物理受け\",\n",
    "    \"物理受け\",\n",
    "    \"特殊受け\",\n",
    "    \"特殊受け\"\n",
    "])"
   ]
  },
  {
   "cell_type": "markdown",
   "metadata": {},
   "source": [
    "https://stackoverflow.com/questions/20763012/creating-a-pandas-dataframe-from-a-numpy-array-how-do-i-specify-the-index-colum"
   ]
  },
  {
   "cell_type": "markdown",
   "metadata": {},
   "source": [
    "---"
   ]
  },
  {
   "cell_type": "markdown",
   "metadata": {},
   "source": [
    "#### Case1. 種族値のみ\n",
    "\n",
    "- 個体値逆6V : $y = 0$\n",
    "- 努力値無振り : $z = 0$\n",
    "- $\\rm Lv = 50$"
   ]
  },
  {
   "cell_type": "markdown",
   "metadata": {},
   "source": [
    "Hの場合\n",
    "\n",
    "$x_0 + 60$ "
   ]
  },
  {
   "cell_type": "markdown",
   "metadata": {},
   "source": [
    "A, B, C, D, Eの場合\n",
    "\n",
    "$(x_i + 5)$"
   ]
  },
  {
   "cell_type": "code",
   "execution_count": 131,
   "metadata": {},
   "outputs": [
    {
     "data": {
      "text/html": [
       "<div>\n",
       "<style scoped>\n",
       "    .dataframe tbody tr th:only-of-type {\n",
       "        vertical-align: middle;\n",
       "    }\n",
       "\n",
       "    .dataframe tbody tr th {\n",
       "        vertical-align: top;\n",
       "    }\n",
       "\n",
       "    .dataframe thead th {\n",
       "        text-align: right;\n",
       "    }\n",
       "</style>\n",
       "<table border=\"1\" class=\"dataframe\">\n",
       "  <thead>\n",
       "    <tr style=\"text-align: right;\">\n",
       "      <th></th>\n",
       "      <th>H</th>\n",
       "      <th>A</th>\n",
       "      <th>B</th>\n",
       "      <th>C</th>\n",
       "      <th>D</th>\n",
       "      <th>S</th>\n",
       "    </tr>\n",
       "  </thead>\n",
       "  <tbody>\n",
       "    <tr>\n",
       "      <th>物理アタッカー</th>\n",
       "      <td>130</td>\n",
       "      <td>126</td>\n",
       "      <td>75</td>\n",
       "      <td>108</td>\n",
       "      <td>75</td>\n",
       "      <td>95</td>\n",
       "    </tr>\n",
       "    <tr>\n",
       "      <th>高速物理アタッカー</th>\n",
       "      <td>130</td>\n",
       "      <td>115</td>\n",
       "      <td>75</td>\n",
       "      <td>108</td>\n",
       "      <td>75</td>\n",
       "      <td>104</td>\n",
       "    </tr>\n",
       "    <tr>\n",
       "      <th>特殊アタッカー</th>\n",
       "      <td>130</td>\n",
       "      <td>103</td>\n",
       "      <td>75</td>\n",
       "      <td>132</td>\n",
       "      <td>75</td>\n",
       "      <td>95</td>\n",
       "    </tr>\n",
       "    <tr>\n",
       "      <th>高速特殊アタッカー</th>\n",
       "      <td>130</td>\n",
       "      <td>103</td>\n",
       "      <td>75</td>\n",
       "      <td>120</td>\n",
       "      <td>75</td>\n",
       "      <td>104</td>\n",
       "    </tr>\n",
       "    <tr>\n",
       "      <th>物理受け</th>\n",
       "      <td>130</td>\n",
       "      <td>103</td>\n",
       "      <td>82</td>\n",
       "      <td>120</td>\n",
       "      <td>75</td>\n",
       "      <td>95</td>\n",
       "    </tr>\n",
       "    <tr>\n",
       "      <th>物理受け</th>\n",
       "      <td>130</td>\n",
       "      <td>115</td>\n",
       "      <td>82</td>\n",
       "      <td>108</td>\n",
       "      <td>75</td>\n",
       "      <td>95</td>\n",
       "    </tr>\n",
       "    <tr>\n",
       "      <th>特殊受け</th>\n",
       "      <td>130</td>\n",
       "      <td>103</td>\n",
       "      <td>75</td>\n",
       "      <td>120</td>\n",
       "      <td>82</td>\n",
       "      <td>95</td>\n",
       "    </tr>\n",
       "    <tr>\n",
       "      <th>特殊受け</th>\n",
       "      <td>130</td>\n",
       "      <td>115</td>\n",
       "      <td>75</td>\n",
       "      <td>108</td>\n",
       "      <td>82</td>\n",
       "      <td>95</td>\n",
       "    </tr>\n",
       "  </tbody>\n",
       "</table>\n",
       "</div>"
      ],
      "text/plain": [
       "             H    A   B    C   D    S\n",
       "物理アタッカー    130  126  75  108  75   95\n",
       "高速物理アタッカー  130  115  75  108  75  104\n",
       "特殊アタッカー    130  103  75  132  75   95\n",
       "高速特殊アタッカー  130  103  75  120  75  104\n",
       "物理受け       130  103  82  120  75   95\n",
       "物理受け       130  115  82  108  75   95\n",
       "特殊受け       130  103  75  120  82   95\n",
       "特殊受け       130  115  75  108  82   95"
      ]
     },
     "execution_count": 131,
     "metadata": {},
     "output_type": "execute_result"
    }
   ],
   "source": [
    "v = createVectorV(H, A, B, C, D, S,\n",
    "                  0, 0, 0, 0, 0, 0,\n",
    "                  0, 0, 0, 0, 0, 0,\n",
    "                  50)\n",
    "\n",
    "v_0 = (v * u_0).astype(int)\n",
    "v_1 = (v * u_1).astype(int)\n",
    "v_2 = (v * u_2).astype(int)\n",
    "v_3 = (v * u_3).astype(int)\n",
    "v_4 = (v * u_4).astype(int)\n",
    "v_5 = (v * u_5).astype(int)\n",
    "v_6 = (v * u_6).astype(int)\n",
    "v_7 = (v * u_7).astype(int)\n",
    "\n",
    "data = np.array([header,v_0,v_1,v_2,v_3,v_4,v_5,v_6,v_7])\n",
    "\n",
    "pd.DataFrame(data=data[1:,0:],    # [row:,col:]\n",
    "             index=index,\n",
    "             columns=data[0,0:])"
   ]
  },
  {
   "cell_type": "code",
   "execution_count": 140,
   "metadata": {},
   "outputs": [
    {
     "data": {
      "text/html": [
       "<div>\n",
       "<style scoped>\n",
       "    .dataframe tbody tr th:only-of-type {\n",
       "        vertical-align: middle;\n",
       "    }\n",
       "\n",
       "    .dataframe tbody tr th {\n",
       "        vertical-align: top;\n",
       "    }\n",
       "\n",
       "    .dataframe thead th {\n",
       "        text-align: right;\n",
       "    }\n",
       "</style>\n",
       "<table border=\"1\" class=\"dataframe\">\n",
       "  <thead>\n",
       "    <tr style=\"text-align: right;\">\n",
       "      <th></th>\n",
       "      <th>0</th>\n",
       "      <th>1</th>\n",
       "      <th>2</th>\n",
       "      <th>3</th>\n",
       "      <th>4</th>\n",
       "      <th>5</th>\n",
       "    </tr>\n",
       "  </thead>\n",
       "  <tbody>\n",
       "    <tr>\n",
       "      <th>count</th>\n",
       "      <td>8.0</td>\n",
       "      <td>8.000000</td>\n",
       "      <td>8.00000</td>\n",
       "      <td>8.000000</td>\n",
       "      <td>8.00000</td>\n",
       "      <td>8.00000</td>\n",
       "    </tr>\n",
       "    <tr>\n",
       "      <th>mean</th>\n",
       "      <td>130.0</td>\n",
       "      <td>110.375000</td>\n",
       "      <td>76.75000</td>\n",
       "      <td>115.500000</td>\n",
       "      <td>76.75000</td>\n",
       "      <td>97.25000</td>\n",
       "    </tr>\n",
       "    <tr>\n",
       "      <th>std</th>\n",
       "      <td>0.0</td>\n",
       "      <td>8.667468</td>\n",
       "      <td>3.24037</td>\n",
       "      <td>8.928286</td>\n",
       "      <td>3.24037</td>\n",
       "      <td>4.16619</td>\n",
       "    </tr>\n",
       "    <tr>\n",
       "      <th>min</th>\n",
       "      <td>130.0</td>\n",
       "      <td>103.000000</td>\n",
       "      <td>75.00000</td>\n",
       "      <td>108.000000</td>\n",
       "      <td>75.00000</td>\n",
       "      <td>95.00000</td>\n",
       "    </tr>\n",
       "    <tr>\n",
       "      <th>25%</th>\n",
       "      <td>130.0</td>\n",
       "      <td>103.000000</td>\n",
       "      <td>75.00000</td>\n",
       "      <td>108.000000</td>\n",
       "      <td>75.00000</td>\n",
       "      <td>95.00000</td>\n",
       "    </tr>\n",
       "    <tr>\n",
       "      <th>50%</th>\n",
       "      <td>130.0</td>\n",
       "      <td>109.000000</td>\n",
       "      <td>75.00000</td>\n",
       "      <td>114.000000</td>\n",
       "      <td>75.00000</td>\n",
       "      <td>95.00000</td>\n",
       "    </tr>\n",
       "    <tr>\n",
       "      <th>75%</th>\n",
       "      <td>130.0</td>\n",
       "      <td>115.000000</td>\n",
       "      <td>76.75000</td>\n",
       "      <td>120.000000</td>\n",
       "      <td>76.75000</td>\n",
       "      <td>97.25000</td>\n",
       "    </tr>\n",
       "    <tr>\n",
       "      <th>max</th>\n",
       "      <td>130.0</td>\n",
       "      <td>126.000000</td>\n",
       "      <td>82.00000</td>\n",
       "      <td>132.000000</td>\n",
       "      <td>82.00000</td>\n",
       "      <td>104.00000</td>\n",
       "    </tr>\n",
       "  </tbody>\n",
       "</table>\n",
       "</div>"
      ],
      "text/plain": [
       "           0           1         2           3         4          5\n",
       "count    8.0    8.000000   8.00000    8.000000   8.00000    8.00000\n",
       "mean   130.0  110.375000  76.75000  115.500000  76.75000   97.25000\n",
       "std      0.0    8.667468   3.24037    8.928286   3.24037    4.16619\n",
       "min    130.0  103.000000  75.00000  108.000000  75.00000   95.00000\n",
       "25%    130.0  103.000000  75.00000  108.000000  75.00000   95.00000\n",
       "50%    130.0  109.000000  75.00000  114.000000  75.00000   95.00000\n",
       "75%    130.0  115.000000  76.75000  120.000000  76.75000   97.25000\n",
       "max    130.0  126.000000  82.00000  132.000000  82.00000  104.00000"
      ]
     },
     "execution_count": 140,
     "metadata": {},
     "output_type": "execute_result"
    }
   ],
   "source": [
    "pd.DataFrame(np.array([v_0,v_1,v_2,v_3,v_4,v_5,v_6,v_7])).describe()"
   ]
  },
  {
   "cell_type": "markdown",
   "metadata": {},
   "source": [
    "---"
   ]
  },
  {
   "cell_type": "markdown",
   "metadata": {},
   "source": [
    "#### Case2. 種族値 + 6V"
   ]
  },
  {
   "cell_type": "markdown",
   "metadata": {},
   "source": [
    "Hの場合\n",
    "\n",
    "$ (x + \\frac{y}{2}) + 60$ "
   ]
  },
  {
   "cell_type": "markdown",
   "metadata": {},
   "source": [
    "A, B, C, D, Eの場合\n",
    "\n",
    "$\\{(x + \\frac{y}{2}) + 5\\} \\times \\alpha$"
   ]
  },
  {
   "cell_type": "code",
   "execution_count": 142,
   "metadata": {},
   "outputs": [
    {
     "data": {
      "text/html": [
       "<div>\n",
       "<style scoped>\n",
       "    .dataframe tbody tr th:only-of-type {\n",
       "        vertical-align: middle;\n",
       "    }\n",
       "\n",
       "    .dataframe tbody tr th {\n",
       "        vertical-align: top;\n",
       "    }\n",
       "\n",
       "    .dataframe thead th {\n",
       "        text-align: right;\n",
       "    }\n",
       "</style>\n",
       "<table border=\"1\" class=\"dataframe\">\n",
       "  <thead>\n",
       "    <tr style=\"text-align: right;\">\n",
       "      <th></th>\n",
       "      <th>H</th>\n",
       "      <th>A</th>\n",
       "      <th>B</th>\n",
       "      <th>C</th>\n",
       "      <th>D</th>\n",
       "      <th>S</th>\n",
       "    </tr>\n",
       "  </thead>\n",
       "  <tbody>\n",
       "    <tr>\n",
       "      <th>物理アタッカー</th>\n",
       "      <td>145</td>\n",
       "      <td>143</td>\n",
       "      <td>90</td>\n",
       "      <td>121</td>\n",
       "      <td>90</td>\n",
       "      <td>110</td>\n",
       "    </tr>\n",
       "    <tr>\n",
       "      <th>高速物理アタッカー</th>\n",
       "      <td>145</td>\n",
       "      <td>130</td>\n",
       "      <td>90</td>\n",
       "      <td>121</td>\n",
       "      <td>90</td>\n",
       "      <td>121</td>\n",
       "    </tr>\n",
       "    <tr>\n",
       "      <th>特殊アタッカー</th>\n",
       "      <td>145</td>\n",
       "      <td>117</td>\n",
       "      <td>90</td>\n",
       "      <td>148</td>\n",
       "      <td>90</td>\n",
       "      <td>110</td>\n",
       "    </tr>\n",
       "    <tr>\n",
       "      <th>高速特殊アタッカー</th>\n",
       "      <td>145</td>\n",
       "      <td>117</td>\n",
       "      <td>90</td>\n",
       "      <td>135</td>\n",
       "      <td>90</td>\n",
       "      <td>121</td>\n",
       "    </tr>\n",
       "    <tr>\n",
       "      <th>物理受け</th>\n",
       "      <td>145</td>\n",
       "      <td>117</td>\n",
       "      <td>99</td>\n",
       "      <td>135</td>\n",
       "      <td>90</td>\n",
       "      <td>110</td>\n",
       "    </tr>\n",
       "    <tr>\n",
       "      <th>物理受け</th>\n",
       "      <td>145</td>\n",
       "      <td>130</td>\n",
       "      <td>99</td>\n",
       "      <td>121</td>\n",
       "      <td>90</td>\n",
       "      <td>110</td>\n",
       "    </tr>\n",
       "    <tr>\n",
       "      <th>特殊受け</th>\n",
       "      <td>145</td>\n",
       "      <td>117</td>\n",
       "      <td>90</td>\n",
       "      <td>135</td>\n",
       "      <td>99</td>\n",
       "      <td>110</td>\n",
       "    </tr>\n",
       "    <tr>\n",
       "      <th>特殊受け</th>\n",
       "      <td>145</td>\n",
       "      <td>130</td>\n",
       "      <td>90</td>\n",
       "      <td>121</td>\n",
       "      <td>99</td>\n",
       "      <td>110</td>\n",
       "    </tr>\n",
       "  </tbody>\n",
       "</table>\n",
       "</div>"
      ],
      "text/plain": [
       "             H    A   B    C   D    S\n",
       "物理アタッカー    145  143  90  121  90  110\n",
       "高速物理アタッカー  145  130  90  121  90  121\n",
       "特殊アタッカー    145  117  90  148  90  110\n",
       "高速特殊アタッカー  145  117  90  135  90  121\n",
       "物理受け       145  117  99  135  90  110\n",
       "物理受け       145  130  99  121  90  110\n",
       "特殊受け       145  117  90  135  99  110\n",
       "特殊受け       145  130  90  121  99  110"
      ]
     },
     "execution_count": 142,
     "metadata": {},
     "output_type": "execute_result"
    }
   ],
   "source": [
    "v = createVectorV(H, A, B, C, D, S,\n",
    "                  31, 31, 31, 31, 31, 31,\n",
    "                  0, 0, 0, 0, 0, 0,\n",
    "                  50)\n",
    "\n",
    "v_0 = (v * u_0).astype(int)\n",
    "v_1 = (v * u_1).astype(int)\n",
    "v_2 = (v * u_2).astype(int)\n",
    "v_3 = (v * u_3).astype(int)\n",
    "v_4 = (v * u_4).astype(int)\n",
    "v_5 = (v * u_5).astype(int)\n",
    "v_6 = (v * u_6).astype(int)\n",
    "v_7 = (v * u_7).astype(int)\n",
    "\n",
    "data = np.array([header,v_0,v_1,v_2,v_3,v_4,v_5,v_6,v_7])\n",
    "\n",
    "pd.DataFrame(data=data[1:,0:],    # [row:,col:]\n",
    "             index=index,\n",
    "             columns=data[0,0:])"
   ]
  },
  {
   "cell_type": "code",
   "execution_count": 143,
   "metadata": {},
   "outputs": [
    {
     "data": {
      "text/html": [
       "<div>\n",
       "<style scoped>\n",
       "    .dataframe tbody tr th:only-of-type {\n",
       "        vertical-align: middle;\n",
       "    }\n",
       "\n",
       "    .dataframe tbody tr th {\n",
       "        vertical-align: top;\n",
       "    }\n",
       "\n",
       "    .dataframe thead th {\n",
       "        text-align: right;\n",
       "    }\n",
       "</style>\n",
       "<table border=\"1\" class=\"dataframe\">\n",
       "  <thead>\n",
       "    <tr style=\"text-align: right;\">\n",
       "      <th></th>\n",
       "      <th>0</th>\n",
       "      <th>1</th>\n",
       "      <th>2</th>\n",
       "      <th>3</th>\n",
       "      <th>4</th>\n",
       "      <th>5</th>\n",
       "    </tr>\n",
       "  </thead>\n",
       "  <tbody>\n",
       "    <tr>\n",
       "      <th>count</th>\n",
       "      <td>8.0</td>\n",
       "      <td>8.00000</td>\n",
       "      <td>8.00000</td>\n",
       "      <td>8.000000</td>\n",
       "      <td>8.00000</td>\n",
       "      <td>8.000000</td>\n",
       "    </tr>\n",
       "    <tr>\n",
       "      <th>mean</th>\n",
       "      <td>145.0</td>\n",
       "      <td>125.12500</td>\n",
       "      <td>92.25000</td>\n",
       "      <td>129.625000</td>\n",
       "      <td>92.25000</td>\n",
       "      <td>112.750000</td>\n",
       "    </tr>\n",
       "    <tr>\n",
       "      <th>std</th>\n",
       "      <td>0.0</td>\n",
       "      <td>9.67231</td>\n",
       "      <td>4.16619</td>\n",
       "      <td>10.155048</td>\n",
       "      <td>4.16619</td>\n",
       "      <td>5.092011</td>\n",
       "    </tr>\n",
       "    <tr>\n",
       "      <th>min</th>\n",
       "      <td>145.0</td>\n",
       "      <td>117.00000</td>\n",
       "      <td>90.00000</td>\n",
       "      <td>121.000000</td>\n",
       "      <td>90.00000</td>\n",
       "      <td>110.000000</td>\n",
       "    </tr>\n",
       "    <tr>\n",
       "      <th>25%</th>\n",
       "      <td>145.0</td>\n",
       "      <td>117.00000</td>\n",
       "      <td>90.00000</td>\n",
       "      <td>121.000000</td>\n",
       "      <td>90.00000</td>\n",
       "      <td>110.000000</td>\n",
       "    </tr>\n",
       "    <tr>\n",
       "      <th>50%</th>\n",
       "      <td>145.0</td>\n",
       "      <td>123.50000</td>\n",
       "      <td>90.00000</td>\n",
       "      <td>128.000000</td>\n",
       "      <td>90.00000</td>\n",
       "      <td>110.000000</td>\n",
       "    </tr>\n",
       "    <tr>\n",
       "      <th>75%</th>\n",
       "      <td>145.0</td>\n",
       "      <td>130.00000</td>\n",
       "      <td>92.25000</td>\n",
       "      <td>135.000000</td>\n",
       "      <td>92.25000</td>\n",
       "      <td>112.750000</td>\n",
       "    </tr>\n",
       "    <tr>\n",
       "      <th>max</th>\n",
       "      <td>145.0</td>\n",
       "      <td>143.00000</td>\n",
       "      <td>99.00000</td>\n",
       "      <td>148.000000</td>\n",
       "      <td>99.00000</td>\n",
       "      <td>121.000000</td>\n",
       "    </tr>\n",
       "  </tbody>\n",
       "</table>\n",
       "</div>"
      ],
      "text/plain": [
       "           0          1         2           3         4           5\n",
       "count    8.0    8.00000   8.00000    8.000000   8.00000    8.000000\n",
       "mean   145.0  125.12500  92.25000  129.625000  92.25000  112.750000\n",
       "std      0.0    9.67231   4.16619   10.155048   4.16619    5.092011\n",
       "min    145.0  117.00000  90.00000  121.000000  90.00000  110.000000\n",
       "25%    145.0  117.00000  90.00000  121.000000  90.00000  110.000000\n",
       "50%    145.0  123.50000  90.00000  128.000000  90.00000  110.000000\n",
       "75%    145.0  130.00000  92.25000  135.000000  92.25000  112.750000\n",
       "max    145.0  143.00000  99.00000  148.000000  99.00000  121.000000"
      ]
     },
     "execution_count": 143,
     "metadata": {},
     "output_type": "execute_result"
    }
   ],
   "source": [
    "pd.DataFrame(np.array([v_0,v_1,v_2,v_3,v_4,v_5,v_6,v_7])).describe()"
   ]
  },
  {
   "cell_type": "markdown",
   "metadata": {},
   "source": [
    "---"
   ]
  },
  {
   "cell_type": "markdown",
   "metadata": {},
   "source": [
    "#### Case3. 種族値 + 6V + 基礎値全振り"
   ]
  },
  {
   "cell_type": "markdown",
   "metadata": {},
   "source": [
    "- 個体値: 6V\n",
    "- 基礎値:\n",
    "    - A: 252\n",
    "    - S: 252\n",
    "    - H: 4\n",
    "- Lv: 50"
   ]
  },
  {
   "cell_type": "code",
   "execution_count": 144,
   "metadata": {},
   "outputs": [
    {
     "data": {
      "text/html": [
       "<div>\n",
       "<style scoped>\n",
       "    .dataframe tbody tr th:only-of-type {\n",
       "        vertical-align: middle;\n",
       "    }\n",
       "\n",
       "    .dataframe tbody tr th {\n",
       "        vertical-align: top;\n",
       "    }\n",
       "\n",
       "    .dataframe thead th {\n",
       "        text-align: right;\n",
       "    }\n",
       "</style>\n",
       "<table border=\"1\" class=\"dataframe\">\n",
       "  <thead>\n",
       "    <tr style=\"text-align: right;\">\n",
       "      <th></th>\n",
       "      <th>H</th>\n",
       "      <th>A</th>\n",
       "      <th>B</th>\n",
       "      <th>C</th>\n",
       "      <th>D</th>\n",
       "      <th>S</th>\n",
       "    </tr>\n",
       "  </thead>\n",
       "  <tbody>\n",
       "    <tr>\n",
       "      <th>物理アタッカー</th>\n",
       "      <td>146</td>\n",
       "      <td>178</td>\n",
       "      <td>90</td>\n",
       "      <td>121</td>\n",
       "      <td>90</td>\n",
       "      <td>142</td>\n",
       "    </tr>\n",
       "    <tr>\n",
       "      <th>高速物理アタッカー</th>\n",
       "      <td>146</td>\n",
       "      <td>162</td>\n",
       "      <td>90</td>\n",
       "      <td>121</td>\n",
       "      <td>90</td>\n",
       "      <td>156</td>\n",
       "    </tr>\n",
       "    <tr>\n",
       "      <th>特殊アタッカー</th>\n",
       "      <td>146</td>\n",
       "      <td>145</td>\n",
       "      <td>90</td>\n",
       "      <td>148</td>\n",
       "      <td>90</td>\n",
       "      <td>142</td>\n",
       "    </tr>\n",
       "    <tr>\n",
       "      <th>高速特殊アタッカー</th>\n",
       "      <td>146</td>\n",
       "      <td>145</td>\n",
       "      <td>90</td>\n",
       "      <td>135</td>\n",
       "      <td>90</td>\n",
       "      <td>156</td>\n",
       "    </tr>\n",
       "    <tr>\n",
       "      <th>物理受け</th>\n",
       "      <td>146</td>\n",
       "      <td>145</td>\n",
       "      <td>99</td>\n",
       "      <td>135</td>\n",
       "      <td>90</td>\n",
       "      <td>142</td>\n",
       "    </tr>\n",
       "    <tr>\n",
       "      <th>物理受け</th>\n",
       "      <td>146</td>\n",
       "      <td>162</td>\n",
       "      <td>99</td>\n",
       "      <td>121</td>\n",
       "      <td>90</td>\n",
       "      <td>142</td>\n",
       "    </tr>\n",
       "    <tr>\n",
       "      <th>特殊受け</th>\n",
       "      <td>146</td>\n",
       "      <td>145</td>\n",
       "      <td>90</td>\n",
       "      <td>135</td>\n",
       "      <td>99</td>\n",
       "      <td>142</td>\n",
       "    </tr>\n",
       "    <tr>\n",
       "      <th>特殊受け</th>\n",
       "      <td>146</td>\n",
       "      <td>162</td>\n",
       "      <td>90</td>\n",
       "      <td>121</td>\n",
       "      <td>99</td>\n",
       "      <td>142</td>\n",
       "    </tr>\n",
       "  </tbody>\n",
       "</table>\n",
       "</div>"
      ],
      "text/plain": [
       "             H    A   B    C   D    S\n",
       "物理アタッカー    146  178  90  121  90  142\n",
       "高速物理アタッカー  146  162  90  121  90  156\n",
       "特殊アタッカー    146  145  90  148  90  142\n",
       "高速特殊アタッカー  146  145  90  135  90  156\n",
       "物理受け       146  145  99  135  90  142\n",
       "物理受け       146  162  99  121  90  142\n",
       "特殊受け       146  145  90  135  99  142\n",
       "特殊受け       146  162  90  121  99  142"
      ]
     },
     "execution_count": 144,
     "metadata": {},
     "output_type": "execute_result"
    }
   ],
   "source": [
    "v = createVectorV(H, A, B, C, D, S,\n",
    "                  31, 31, 31, 31, 31, 31,\n",
    "                  4, 252, 0, 0, 0, 252,\n",
    "                  50)\n",
    "\n",
    "v_0 = (v * u_0).astype(int)\n",
    "v_1 = (v * u_1).astype(int)\n",
    "v_2 = (v * u_2).astype(int)\n",
    "v_3 = (v * u_3).astype(int)\n",
    "v_4 = (v * u_4).astype(int)\n",
    "v_5 = (v * u_5).astype(int)\n",
    "v_6 = (v * u_6).astype(int)\n",
    "v_7 = (v * u_7).astype(int)\n",
    "\n",
    "data = np.array([header,v_0,v_1,v_2,v_3,v_4,v_5,v_6,v_7])\n",
    "\n",
    "pd.DataFrame(data=data[1:,0:],    # [row:,col:]\n",
    "             index=index,\n",
    "             columns=data[0,0:])"
   ]
  },
  {
   "cell_type": "code",
   "execution_count": 145,
   "metadata": {},
   "outputs": [
    {
     "data": {
      "text/html": [
       "<div>\n",
       "<style scoped>\n",
       "    .dataframe tbody tr th:only-of-type {\n",
       "        vertical-align: middle;\n",
       "    }\n",
       "\n",
       "    .dataframe tbody tr th {\n",
       "        vertical-align: top;\n",
       "    }\n",
       "\n",
       "    .dataframe thead th {\n",
       "        text-align: right;\n",
       "    }\n",
       "</style>\n",
       "<table border=\"1\" class=\"dataframe\">\n",
       "  <thead>\n",
       "    <tr style=\"text-align: right;\">\n",
       "      <th></th>\n",
       "      <th>0</th>\n",
       "      <th>1</th>\n",
       "      <th>2</th>\n",
       "      <th>3</th>\n",
       "      <th>4</th>\n",
       "      <th>5</th>\n",
       "    </tr>\n",
       "  </thead>\n",
       "  <tbody>\n",
       "    <tr>\n",
       "      <th>count</th>\n",
       "      <td>8.0</td>\n",
       "      <td>8.000000</td>\n",
       "      <td>8.00000</td>\n",
       "      <td>8.000000</td>\n",
       "      <td>8.00000</td>\n",
       "      <td>8.000000</td>\n",
       "    </tr>\n",
       "    <tr>\n",
       "      <th>mean</th>\n",
       "      <td>146.0</td>\n",
       "      <td>155.500000</td>\n",
       "      <td>92.25000</td>\n",
       "      <td>129.625000</td>\n",
       "      <td>92.25000</td>\n",
       "      <td>145.500000</td>\n",
       "    </tr>\n",
       "    <tr>\n",
       "      <th>std</th>\n",
       "      <td>0.0</td>\n",
       "      <td>12.386629</td>\n",
       "      <td>4.16619</td>\n",
       "      <td>10.155048</td>\n",
       "      <td>4.16619</td>\n",
       "      <td>6.480741</td>\n",
       "    </tr>\n",
       "    <tr>\n",
       "      <th>min</th>\n",
       "      <td>146.0</td>\n",
       "      <td>145.000000</td>\n",
       "      <td>90.00000</td>\n",
       "      <td>121.000000</td>\n",
       "      <td>90.00000</td>\n",
       "      <td>142.000000</td>\n",
       "    </tr>\n",
       "    <tr>\n",
       "      <th>25%</th>\n",
       "      <td>146.0</td>\n",
       "      <td>145.000000</td>\n",
       "      <td>90.00000</td>\n",
       "      <td>121.000000</td>\n",
       "      <td>90.00000</td>\n",
       "      <td>142.000000</td>\n",
       "    </tr>\n",
       "    <tr>\n",
       "      <th>50%</th>\n",
       "      <td>146.0</td>\n",
       "      <td>153.500000</td>\n",
       "      <td>90.00000</td>\n",
       "      <td>128.000000</td>\n",
       "      <td>90.00000</td>\n",
       "      <td>142.000000</td>\n",
       "    </tr>\n",
       "    <tr>\n",
       "      <th>75%</th>\n",
       "      <td>146.0</td>\n",
       "      <td>162.000000</td>\n",
       "      <td>92.25000</td>\n",
       "      <td>135.000000</td>\n",
       "      <td>92.25000</td>\n",
       "      <td>145.500000</td>\n",
       "    </tr>\n",
       "    <tr>\n",
       "      <th>max</th>\n",
       "      <td>146.0</td>\n",
       "      <td>178.000000</td>\n",
       "      <td>99.00000</td>\n",
       "      <td>148.000000</td>\n",
       "      <td>99.00000</td>\n",
       "      <td>156.000000</td>\n",
       "    </tr>\n",
       "  </tbody>\n",
       "</table>\n",
       "</div>"
      ],
      "text/plain": [
       "           0           1         2           3         4           5\n",
       "count    8.0    8.000000   8.00000    8.000000   8.00000    8.000000\n",
       "mean   146.0  155.500000  92.25000  129.625000  92.25000  145.500000\n",
       "std      0.0   12.386629   4.16619   10.155048   4.16619    6.480741\n",
       "min    146.0  145.000000  90.00000  121.000000  90.00000  142.000000\n",
       "25%    146.0  145.000000  90.00000  121.000000  90.00000  142.000000\n",
       "50%    146.0  153.500000  90.00000  128.000000  90.00000  142.000000\n",
       "75%    146.0  162.000000  92.25000  135.000000  92.25000  145.500000\n",
       "max    146.0  178.000000  99.00000  148.000000  99.00000  156.000000"
      ]
     },
     "execution_count": 145,
     "metadata": {},
     "output_type": "execute_result"
    }
   ],
   "source": [
    "pd.DataFrame(np.array([v_0,v_1,v_2,v_3,v_4,v_5,v_6,v_7])).describe()"
   ]
  },
  {
   "cell_type": "markdown",
   "metadata": {},
   "source": [
    "- 個体値: 6V\n",
    "- 基礎値:\n",
    "    - A: 248\n",
    "    - S: 248\n",
    "    - H: 4\n",
    "- Lv: 50"
   ]
  },
  {
   "cell_type": "code",
   "execution_count": 146,
   "metadata": {},
   "outputs": [
    {
     "data": {
      "text/html": [
       "<div>\n",
       "<style scoped>\n",
       "    .dataframe tbody tr th:only-of-type {\n",
       "        vertical-align: middle;\n",
       "    }\n",
       "\n",
       "    .dataframe tbody tr th {\n",
       "        vertical-align: top;\n",
       "    }\n",
       "\n",
       "    .dataframe thead th {\n",
       "        text-align: right;\n",
       "    }\n",
       "</style>\n",
       "<table border=\"1\" class=\"dataframe\">\n",
       "  <thead>\n",
       "    <tr style=\"text-align: right;\">\n",
       "      <th></th>\n",
       "      <th>H</th>\n",
       "      <th>A</th>\n",
       "      <th>B</th>\n",
       "      <th>C</th>\n",
       "      <th>D</th>\n",
       "      <th>S</th>\n",
       "    </tr>\n",
       "  </thead>\n",
       "  <tbody>\n",
       "    <tr>\n",
       "      <th>物理アタッカー</th>\n",
       "      <td>146</td>\n",
       "      <td>177</td>\n",
       "      <td>90</td>\n",
       "      <td>121</td>\n",
       "      <td>90</td>\n",
       "      <td>141</td>\n",
       "    </tr>\n",
       "    <tr>\n",
       "      <th>高速物理アタッカー</th>\n",
       "      <td>146</td>\n",
       "      <td>161</td>\n",
       "      <td>90</td>\n",
       "      <td>121</td>\n",
       "      <td>90</td>\n",
       "      <td>155</td>\n",
       "    </tr>\n",
       "    <tr>\n",
       "      <th>特殊アタッカー</th>\n",
       "      <td>146</td>\n",
       "      <td>144</td>\n",
       "      <td>90</td>\n",
       "      <td>148</td>\n",
       "      <td>90</td>\n",
       "      <td>141</td>\n",
       "    </tr>\n",
       "    <tr>\n",
       "      <th>高速特殊アタッカー</th>\n",
       "      <td>146</td>\n",
       "      <td>144</td>\n",
       "      <td>90</td>\n",
       "      <td>135</td>\n",
       "      <td>90</td>\n",
       "      <td>155</td>\n",
       "    </tr>\n",
       "    <tr>\n",
       "      <th>物理受け</th>\n",
       "      <td>146</td>\n",
       "      <td>144</td>\n",
       "      <td>99</td>\n",
       "      <td>135</td>\n",
       "      <td>90</td>\n",
       "      <td>141</td>\n",
       "    </tr>\n",
       "    <tr>\n",
       "      <th>物理受け</th>\n",
       "      <td>146</td>\n",
       "      <td>161</td>\n",
       "      <td>99</td>\n",
       "      <td>121</td>\n",
       "      <td>90</td>\n",
       "      <td>141</td>\n",
       "    </tr>\n",
       "    <tr>\n",
       "      <th>特殊受け</th>\n",
       "      <td>146</td>\n",
       "      <td>144</td>\n",
       "      <td>90</td>\n",
       "      <td>135</td>\n",
       "      <td>99</td>\n",
       "      <td>141</td>\n",
       "    </tr>\n",
       "    <tr>\n",
       "      <th>特殊受け</th>\n",
       "      <td>146</td>\n",
       "      <td>161</td>\n",
       "      <td>90</td>\n",
       "      <td>121</td>\n",
       "      <td>99</td>\n",
       "      <td>141</td>\n",
       "    </tr>\n",
       "  </tbody>\n",
       "</table>\n",
       "</div>"
      ],
      "text/plain": [
       "             H    A   B    C   D    S\n",
       "物理アタッカー    146  177  90  121  90  141\n",
       "高速物理アタッカー  146  161  90  121  90  155\n",
       "特殊アタッカー    146  144  90  148  90  141\n",
       "高速特殊アタッカー  146  144  90  135  90  155\n",
       "物理受け       146  144  99  135  90  141\n",
       "物理受け       146  161  99  121  90  141\n",
       "特殊受け       146  144  90  135  99  141\n",
       "特殊受け       146  161  90  121  99  141"
      ]
     },
     "execution_count": 146,
     "metadata": {},
     "output_type": "execute_result"
    }
   ],
   "source": [
    "v = createVectorV(H, A, B, C, D, S,\n",
    "                  31, 31, 31, 31, 31, 31,\n",
    "                  4, 248, 0, 0, 0, 248,\n",
    "                  50)\n",
    "\n",
    "v_0 = (v * u_0).astype(int)\n",
    "v_1 = (v * u_1).astype(int)\n",
    "v_2 = (v * u_2).astype(int)\n",
    "v_3 = (v * u_3).astype(int)\n",
    "v_4 = (v * u_4).astype(int)\n",
    "v_5 = (v * u_5).astype(int)\n",
    "v_6 = (v * u_6).astype(int)\n",
    "v_7 = (v * u_7).astype(int)\n",
    "\n",
    "data = np.array([header,v_0,v_1,v_2,v_3,v_4,v_5,v_6,v_7])\n",
    "\n",
    "pd.DataFrame(data=data[1:,0:],    # [row:,col:]\n",
    "             index=index,\n",
    "             columns=data[0,0:])"
   ]
  },
  {
   "cell_type": "code",
   "execution_count": 147,
   "metadata": {},
   "outputs": [
    {
     "data": {
      "text/html": [
       "<div>\n",
       "<style scoped>\n",
       "    .dataframe tbody tr th:only-of-type {\n",
       "        vertical-align: middle;\n",
       "    }\n",
       "\n",
       "    .dataframe tbody tr th {\n",
       "        vertical-align: top;\n",
       "    }\n",
       "\n",
       "    .dataframe thead th {\n",
       "        text-align: right;\n",
       "    }\n",
       "</style>\n",
       "<table border=\"1\" class=\"dataframe\">\n",
       "  <thead>\n",
       "    <tr style=\"text-align: right;\">\n",
       "      <th></th>\n",
       "      <th>0</th>\n",
       "      <th>1</th>\n",
       "      <th>2</th>\n",
       "      <th>3</th>\n",
       "      <th>4</th>\n",
       "      <th>5</th>\n",
       "    </tr>\n",
       "  </thead>\n",
       "  <tbody>\n",
       "    <tr>\n",
       "      <th>count</th>\n",
       "      <td>8.0</td>\n",
       "      <td>8.000000</td>\n",
       "      <td>8.00000</td>\n",
       "      <td>8.000000</td>\n",
       "      <td>8.00000</td>\n",
       "      <td>8.000000</td>\n",
       "    </tr>\n",
       "    <tr>\n",
       "      <th>mean</th>\n",
       "      <td>146.0</td>\n",
       "      <td>154.500000</td>\n",
       "      <td>92.25000</td>\n",
       "      <td>129.625000</td>\n",
       "      <td>92.25000</td>\n",
       "      <td>144.500000</td>\n",
       "    </tr>\n",
       "    <tr>\n",
       "      <th>std</th>\n",
       "      <td>0.0</td>\n",
       "      <td>12.386629</td>\n",
       "      <td>4.16619</td>\n",
       "      <td>10.155048</td>\n",
       "      <td>4.16619</td>\n",
       "      <td>6.480741</td>\n",
       "    </tr>\n",
       "    <tr>\n",
       "      <th>min</th>\n",
       "      <td>146.0</td>\n",
       "      <td>144.000000</td>\n",
       "      <td>90.00000</td>\n",
       "      <td>121.000000</td>\n",
       "      <td>90.00000</td>\n",
       "      <td>141.000000</td>\n",
       "    </tr>\n",
       "    <tr>\n",
       "      <th>25%</th>\n",
       "      <td>146.0</td>\n",
       "      <td>144.000000</td>\n",
       "      <td>90.00000</td>\n",
       "      <td>121.000000</td>\n",
       "      <td>90.00000</td>\n",
       "      <td>141.000000</td>\n",
       "    </tr>\n",
       "    <tr>\n",
       "      <th>50%</th>\n",
       "      <td>146.0</td>\n",
       "      <td>152.500000</td>\n",
       "      <td>90.00000</td>\n",
       "      <td>128.000000</td>\n",
       "      <td>90.00000</td>\n",
       "      <td>141.000000</td>\n",
       "    </tr>\n",
       "    <tr>\n",
       "      <th>75%</th>\n",
       "      <td>146.0</td>\n",
       "      <td>161.000000</td>\n",
       "      <td>92.25000</td>\n",
       "      <td>135.000000</td>\n",
       "      <td>92.25000</td>\n",
       "      <td>144.500000</td>\n",
       "    </tr>\n",
       "    <tr>\n",
       "      <th>max</th>\n",
       "      <td>146.0</td>\n",
       "      <td>177.000000</td>\n",
       "      <td>99.00000</td>\n",
       "      <td>148.000000</td>\n",
       "      <td>99.00000</td>\n",
       "      <td>155.000000</td>\n",
       "    </tr>\n",
       "  </tbody>\n",
       "</table>\n",
       "</div>"
      ],
      "text/plain": [
       "           0           1         2           3         4           5\n",
       "count    8.0    8.000000   8.00000    8.000000   8.00000    8.000000\n",
       "mean   146.0  154.500000  92.25000  129.625000  92.25000  144.500000\n",
       "std      0.0   12.386629   4.16619   10.155048   4.16619    6.480741\n",
       "min    146.0  144.000000  90.00000  121.000000  90.00000  141.000000\n",
       "25%    146.0  144.000000  90.00000  121.000000  90.00000  141.000000\n",
       "50%    146.0  152.500000  90.00000  128.000000  90.00000  141.000000\n",
       "75%    146.0  161.000000  92.25000  135.000000  92.25000  144.500000\n",
       "max    146.0  177.000000  99.00000  148.000000  99.00000  155.000000"
      ]
     },
     "execution_count": 147,
     "metadata": {},
     "output_type": "execute_result"
    }
   ],
   "source": [
    "pd.DataFrame(np.array([v_0,v_1,v_2,v_3,v_4,v_5,v_6,v_7])).describe()"
   ]
  },
  {
   "cell_type": "markdown",
   "metadata": {},
   "source": [
    "#### Case4. 種族値 + 6V + 基礎値全振り + 性格補正 + もちもの"
   ]
  }
 ],
 "metadata": {
  "kernelspec": {
   "display_name": "Environment (conda_6.86x)",
   "language": "python",
   "name": "conda_6.86x"
  },
  "language_info": {
   "codemirror_mode": {
    "name": "ipython",
    "version": 3
   },
   "file_extension": ".py",
   "mimetype": "text/x-python",
   "name": "python",
   "nbconvert_exporter": "python",
   "pygments_lexer": "ipython3",
   "version": "3.6.8"
  }
 },
 "nbformat": 4,
 "nbformat_minor": 2
}
